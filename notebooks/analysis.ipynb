{
 "cells": [
  {
   "cell_type": "markdown",
   "id": "a3e31ce6",
   "metadata": {},
   "source": [
    "# Customer Segmentation using K-Mean"
   ]
  },
  {
   "cell_type": "code",
   "execution_count": 169,
   "id": "0732f523",
   "metadata": {},
   "outputs": [],
   "source": [
    "import pandas as pd\n",
    "import numpy as np\n",
    "import matplotlib.pyplot as plt"
   ]
  },
  {
   "cell_type": "code",
   "execution_count": 170,
   "id": "26229e69",
   "metadata": {},
   "outputs": [],
   "source": [
    "stor_df = pd.read_csv(r\"D:\\Data Science\\github\\Customer-Segmentation-for-a-Retail-Business\\data\\raw\\store.csv\")"
   ]
  },
  {
   "cell_type": "code",
   "execution_count": 171,
   "id": "1991531d",
   "metadata": {},
   "outputs": [
    {
     "data": {
      "text/html": [
       "<div>\n",
       "<style scoped>\n",
       "    .dataframe tbody tr th:only-of-type {\n",
       "        vertical-align: middle;\n",
       "    }\n",
       "\n",
       "    .dataframe tbody tr th {\n",
       "        vertical-align: top;\n",
       "    }\n",
       "\n",
       "    .dataframe thead th {\n",
       "        text-align: right;\n",
       "    }\n",
       "</style>\n",
       "<table border=\"1\" class=\"dataframe\">\n",
       "  <thead>\n",
       "    <tr style=\"text-align: right;\">\n",
       "      <th></th>\n",
       "      <th>row_id</th>\n",
       "      <th>order_id</th>\n",
       "      <th>order_date</th>\n",
       "      <th>ship_date</th>\n",
       "      <th>ship_mode</th>\n",
       "      <th>customer_id</th>\n",
       "      <th>customer_name</th>\n",
       "      <th>segment</th>\n",
       "      <th>city</th>\n",
       "      <th>state</th>\n",
       "      <th>...</th>\n",
       "      <th>category</th>\n",
       "      <th>sub-category</th>\n",
       "      <th>product_name</th>\n",
       "      <th>sales</th>\n",
       "      <th>quantity</th>\n",
       "      <th>discount</th>\n",
       "      <th>profit</th>\n",
       "      <th>shipping_cost</th>\n",
       "      <th>order_priority</th>\n",
       "      <th>sales_year</th>\n",
       "    </tr>\n",
       "  </thead>\n",
       "  <tbody>\n",
       "    <tr>\n",
       "      <th>0</th>\n",
       "      <td>42433</td>\n",
       "      <td>AG-2011-2040</td>\n",
       "      <td>2011-01-01</td>\n",
       "      <td>2011-06-01</td>\n",
       "      <td>Standard Class</td>\n",
       "      <td>TB-11280</td>\n",
       "      <td>Toby Braunhardt</td>\n",
       "      <td>Consumer</td>\n",
       "      <td>Constantine</td>\n",
       "      <td>Constantine</td>\n",
       "      <td>...</td>\n",
       "      <td>Office Supplies</td>\n",
       "      <td>Storage</td>\n",
       "      <td>Tenex Lockers, Blue</td>\n",
       "      <td>408.300</td>\n",
       "      <td>2</td>\n",
       "      <td>0.0</td>\n",
       "      <td>106.140</td>\n",
       "      <td>35.46</td>\n",
       "      <td>Medium</td>\n",
       "      <td>2011</td>\n",
       "    </tr>\n",
       "    <tr>\n",
       "      <th>1</th>\n",
       "      <td>22253</td>\n",
       "      <td>IN-2011-47883</td>\n",
       "      <td>2011-01-01</td>\n",
       "      <td>2011-08-01</td>\n",
       "      <td>Standard Class</td>\n",
       "      <td>JH-15985</td>\n",
       "      <td>Joseph Holt</td>\n",
       "      <td>Consumer</td>\n",
       "      <td>Wagga Wagga</td>\n",
       "      <td>New South Wales</td>\n",
       "      <td>...</td>\n",
       "      <td>Office Supplies</td>\n",
       "      <td>Supplies</td>\n",
       "      <td>Acme Trimmer, High Speed</td>\n",
       "      <td>120.366</td>\n",
       "      <td>3</td>\n",
       "      <td>0.1</td>\n",
       "      <td>36.036</td>\n",
       "      <td>9.72</td>\n",
       "      <td>Medium</td>\n",
       "      <td>2011</td>\n",
       "    </tr>\n",
       "    <tr>\n",
       "      <th>2</th>\n",
       "      <td>48883</td>\n",
       "      <td>HU-2011-1220</td>\n",
       "      <td>2011-01-01</td>\n",
       "      <td>2011-05-01</td>\n",
       "      <td>Second Class</td>\n",
       "      <td>AT-735</td>\n",
       "      <td>Annie Thurman</td>\n",
       "      <td>Consumer</td>\n",
       "      <td>Budapest</td>\n",
       "      <td>Budapest</td>\n",
       "      <td>...</td>\n",
       "      <td>Office Supplies</td>\n",
       "      <td>Storage</td>\n",
       "      <td>Tenex Box, Single Width</td>\n",
       "      <td>66.120</td>\n",
       "      <td>4</td>\n",
       "      <td>0.0</td>\n",
       "      <td>29.640</td>\n",
       "      <td>8.17</td>\n",
       "      <td>High</td>\n",
       "      <td>2011</td>\n",
       "    </tr>\n",
       "  </tbody>\n",
       "</table>\n",
       "<p>3 rows × 25 columns</p>\n",
       "</div>"
      ],
      "text/plain": [
       "   row_id       order_id  order_date   ship_date       ship_mode customer_id  \\\n",
       "0   42433   AG-2011-2040  2011-01-01  2011-06-01  Standard Class    TB-11280   \n",
       "1   22253  IN-2011-47883  2011-01-01  2011-08-01  Standard Class    JH-15985   \n",
       "2   48883   HU-2011-1220  2011-01-01  2011-05-01    Second Class      AT-735   \n",
       "\n",
       "     customer_name   segment         city            state  ...  \\\n",
       "0  Toby Braunhardt  Consumer  Constantine      Constantine  ...   \n",
       "1      Joseph Holt  Consumer  Wagga Wagga  New South Wales  ...   \n",
       "2    Annie Thurman  Consumer     Budapest         Budapest  ...   \n",
       "\n",
       "          category  sub-category              product_name    sales quantity  \\\n",
       "0  Office Supplies       Storage       Tenex Lockers, Blue  408.300        2   \n",
       "1  Office Supplies      Supplies  Acme Trimmer, High Speed  120.366        3   \n",
       "2  Office Supplies       Storage   Tenex Box, Single Width   66.120        4   \n",
       "\n",
       "  discount   profit shipping_cost  order_priority  sales_year  \n",
       "0      0.0  106.140         35.46          Medium        2011  \n",
       "1      0.1   36.036          9.72          Medium        2011  \n",
       "2      0.0   29.640          8.17            High        2011  \n",
       "\n",
       "[3 rows x 25 columns]"
      ]
     },
     "execution_count": 171,
     "metadata": {},
     "output_type": "execute_result"
    }
   ],
   "source": [
    "stor_df.head(3)"
   ]
  },
  {
   "cell_type": "markdown",
   "id": "144bcde3",
   "metadata": {},
   "source": [
    "## RFM (Recency, Frequency, Monetary)"
   ]
  },
  {
   "cell_type": "code",
   "execution_count": 172,
   "id": "13fed155",
   "metadata": {},
   "outputs": [],
   "source": [
    "from datetime import datetime"
   ]
  },
  {
   "cell_type": "code",
   "execution_count": 173,
   "id": "718a9d8c",
   "metadata": {},
   "outputs": [],
   "source": [
    "stor_df['order_date'] = pd.to_datetime(stor_df['order_date'])"
   ]
  },
  {
   "cell_type": "code",
   "execution_count": 174,
   "id": "47324aca",
   "metadata": {},
   "outputs": [],
   "source": [
    "reference_date = stor_df['order_date'].max() + pd.Timedelta(days=1)"
   ]
  },
  {
   "cell_type": "code",
   "execution_count": 175,
   "id": "846cb0d1",
   "metadata": {},
   "outputs": [],
   "source": [
    "rfm = stor_df.groupby('customer_id').agg({\n",
    "    'order_date': lambda x: (reference_date - x.max()).days,  # Recency\n",
    "    'order_id': 'nunique',                                    # Frequency\n",
    "    'sales': 'sum',                                           # Monetary (sales)\n",
    "    'profit': 'sum'                                           # Monetary (profit)\n",
    "}).reset_index()\n",
    "\n",
    "rfm.columns = ['CustomerID', 'Recency', 'Frequency', 'Monetary_Sales', 'Monetary_Profit']"
   ]
  },
  {
   "cell_type": "code",
   "execution_count": 176,
   "id": "27897e5d",
   "metadata": {},
   "outputs": [
    {
     "data": {
      "text/html": [
       "<div>\n",
       "<style scoped>\n",
       "    .dataframe tbody tr th:only-of-type {\n",
       "        vertical-align: middle;\n",
       "    }\n",
       "\n",
       "    .dataframe tbody tr th {\n",
       "        vertical-align: top;\n",
       "    }\n",
       "\n",
       "    .dataframe thead th {\n",
       "        text-align: right;\n",
       "    }\n",
       "</style>\n",
       "<table border=\"1\" class=\"dataframe\">\n",
       "  <thead>\n",
       "    <tr style=\"text-align: right;\">\n",
       "      <th></th>\n",
       "      <th>CustomerID</th>\n",
       "      <th>Recency</th>\n",
       "      <th>Frequency</th>\n",
       "      <th>Monetary_Sales</th>\n",
       "      <th>Monetary_Profit</th>\n",
       "    </tr>\n",
       "  </thead>\n",
       "  <tbody>\n",
       "    <tr>\n",
       "      <th>1463</th>\n",
       "      <td>TA-21385</td>\n",
       "      <td>19</td>\n",
       "      <td>25</td>\n",
       "      <td>35668.12080</td>\n",
       "      <td>6274.98910</td>\n",
       "    </tr>\n",
       "    <tr>\n",
       "      <th>623</th>\n",
       "      <td>GT-14710</td>\n",
       "      <td>9</td>\n",
       "      <td>30</td>\n",
       "      <td>34471.89028</td>\n",
       "      <td>5164.84718</td>\n",
       "    </tr>\n",
       "    <tr>\n",
       "      <th>1489</th>\n",
       "      <td>TC-20980</td>\n",
       "      <td>54</td>\n",
       "      <td>28</td>\n",
       "      <td>34218.26900</td>\n",
       "      <td>8787.47490</td>\n",
       "    </tr>\n",
       "    <tr>\n",
       "      <th>1405</th>\n",
       "      <td>SM-20320</td>\n",
       "      <td>74</td>\n",
       "      <td>21</td>\n",
       "      <td>31125.29496</td>\n",
       "      <td>-1083.67434</td>\n",
       "    </tr>\n",
       "    <tr>\n",
       "      <th>237</th>\n",
       "      <td>BW-11110</td>\n",
       "      <td>60</td>\n",
       "      <td>35</td>\n",
       "      <td>30613.61650</td>\n",
       "      <td>3337.46590</td>\n",
       "    </tr>\n",
       "  </tbody>\n",
       "</table>\n",
       "</div>"
      ],
      "text/plain": [
       "     CustomerID  Recency  Frequency  Monetary_Sales  Monetary_Profit\n",
       "1463   TA-21385       19         25     35668.12080       6274.98910\n",
       "623    GT-14710        9         30     34471.89028       5164.84718\n",
       "1489   TC-20980       54         28     34218.26900       8787.47490\n",
       "1405   SM-20320       74         21     31125.29496      -1083.67434\n",
       "237    BW-11110       60         35     30613.61650       3337.46590"
      ]
     },
     "execution_count": 176,
     "metadata": {},
     "output_type": "execute_result"
    }
   ],
   "source": [
    "rfm.sort_values(\"Monetary_Sales\", ascending=False).head()"
   ]
  },
  {
   "cell_type": "code",
   "execution_count": 177,
   "id": "058ca805",
   "metadata": {},
   "outputs": [
    {
     "data": {
      "text/html": [
       "<div>\n",
       "<style scoped>\n",
       "    .dataframe tbody tr th:only-of-type {\n",
       "        vertical-align: middle;\n",
       "    }\n",
       "\n",
       "    .dataframe tbody tr th {\n",
       "        vertical-align: top;\n",
       "    }\n",
       "\n",
       "    .dataframe thead th {\n",
       "        text-align: right;\n",
       "    }\n",
       "</style>\n",
       "<table border=\"1\" class=\"dataframe\">\n",
       "  <thead>\n",
       "    <tr style=\"text-align: right;\">\n",
       "      <th></th>\n",
       "      <th>CustomerID</th>\n",
       "      <th>Recency</th>\n",
       "      <th>Frequency</th>\n",
       "      <th>Monetary_Sales</th>\n",
       "      <th>Monetary_Profit</th>\n",
       "    </tr>\n",
       "  </thead>\n",
       "  <tbody>\n",
       "    <tr>\n",
       "      <th>1489</th>\n",
       "      <td>TC-20980</td>\n",
       "      <td>54</td>\n",
       "      <td>28</td>\n",
       "      <td>34218.26900</td>\n",
       "      <td>8787.47490</td>\n",
       "    </tr>\n",
       "    <tr>\n",
       "      <th>1243</th>\n",
       "      <td>RB-19360</td>\n",
       "      <td>50</td>\n",
       "      <td>25</td>\n",
       "      <td>29197.63460</td>\n",
       "      <td>8523.95150</td>\n",
       "    </tr>\n",
       "    <tr>\n",
       "      <th>1353</th>\n",
       "      <td>SC-20095</td>\n",
       "      <td>76</td>\n",
       "      <td>28</td>\n",
       "      <td>25602.61000</td>\n",
       "      <td>8106.21790</td>\n",
       "    </tr>\n",
       "    <tr>\n",
       "      <th>150</th>\n",
       "      <td>BE-11335</td>\n",
       "      <td>36</td>\n",
       "      <td>37</td>\n",
       "      <td>27158.01840</td>\n",
       "      <td>7790.69630</td>\n",
       "    </tr>\n",
       "    <tr>\n",
       "      <th>656</th>\n",
       "      <td>HL-15040</td>\n",
       "      <td>24</td>\n",
       "      <td>20</td>\n",
       "      <td>29664.23058</td>\n",
       "      <td>7657.50178</td>\n",
       "    </tr>\n",
       "  </tbody>\n",
       "</table>\n",
       "</div>"
      ],
      "text/plain": [
       "     CustomerID  Recency  Frequency  Monetary_Sales  Monetary_Profit\n",
       "1489   TC-20980       54         28     34218.26900       8787.47490\n",
       "1243   RB-19360       50         25     29197.63460       8523.95150\n",
       "1353   SC-20095       76         28     25602.61000       8106.21790\n",
       "150    BE-11335       36         37     27158.01840       7790.69630\n",
       "656    HL-15040       24         20     29664.23058       7657.50178"
      ]
     },
     "execution_count": 177,
     "metadata": {},
     "output_type": "execute_result"
    }
   ],
   "source": [
    "rfm.sort_values(\"Monetary_Profit\", ascending=False).head()"
   ]
  },
  {
   "cell_type": "code",
   "execution_count": 178,
   "id": "facb8ba1",
   "metadata": {},
   "outputs": [],
   "source": [
    "from sklearn.preprocessing import StandardScaler"
   ]
  },
  {
   "cell_type": "code",
   "execution_count": 179,
   "id": "462bb068",
   "metadata": {},
   "outputs": [],
   "source": [
    "features = rfm[['Recency', 'Frequency', 'Monetary_Sales', 'Monetary_Profit']]"
   ]
  },
  {
   "cell_type": "code",
   "execution_count": 180,
   "id": "11a1d7a9",
   "metadata": {},
   "outputs": [],
   "source": [
    "scaler = StandardScaler()\n",
    "rfm_scaled = scaler.fit_transform(features)"
   ]
  },
  {
   "cell_type": "code",
   "execution_count": 181,
   "id": "fcc2d4a9",
   "metadata": {},
   "outputs": [
    {
     "data": {
      "text/html": [
       "<div>\n",
       "<style scoped>\n",
       "    .dataframe tbody tr th:only-of-type {\n",
       "        vertical-align: middle;\n",
       "    }\n",
       "\n",
       "    .dataframe tbody tr th {\n",
       "        vertical-align: top;\n",
       "    }\n",
       "\n",
       "    .dataframe thead th {\n",
       "        text-align: right;\n",
       "    }\n",
       "</style>\n",
       "<table border=\"1\" class=\"dataframe\">\n",
       "  <thead>\n",
       "    <tr style=\"text-align: right;\">\n",
       "      <th></th>\n",
       "      <th>Recency</th>\n",
       "      <th>Frequency</th>\n",
       "      <th>Monetary_Sales</th>\n",
       "      <th>Monetary_Profit</th>\n",
       "    </tr>\n",
       "  </thead>\n",
       "  <tbody>\n",
       "    <tr>\n",
       "      <th>0</th>\n",
       "      <td>-0.622788</td>\n",
       "      <td>0.264053</td>\n",
       "      <td>0.835857</td>\n",
       "      <td>-0.357866</td>\n",
       "    </tr>\n",
       "    <tr>\n",
       "      <th>1</th>\n",
       "      <td>-0.638432</td>\n",
       "      <td>0.640847</td>\n",
       "      <td>-0.298089</td>\n",
       "      <td>-0.184831</td>\n",
       "    </tr>\n",
       "    <tr>\n",
       "      <th>2</th>\n",
       "      <td>0.229843</td>\n",
       "      <td>0.358251</td>\n",
       "      <td>1.405218</td>\n",
       "      <td>0.446954</td>\n",
       "    </tr>\n",
       "    <tr>\n",
       "      <th>3</th>\n",
       "      <td>-0.481986</td>\n",
       "      <td>1.865430</td>\n",
       "      <td>1.066083</td>\n",
       "      <td>1.602818</td>\n",
       "    </tr>\n",
       "    <tr>\n",
       "      <th>4</th>\n",
       "      <td>-0.669722</td>\n",
       "      <td>-0.866332</td>\n",
       "      <td>-0.823144</td>\n",
       "      <td>-0.291694</td>\n",
       "    </tr>\n",
       "  </tbody>\n",
       "</table>\n",
       "</div>"
      ],
      "text/plain": [
       "    Recency  Frequency  Monetary_Sales  Monetary_Profit\n",
       "0 -0.622788   0.264053        0.835857        -0.357866\n",
       "1 -0.638432   0.640847       -0.298089        -0.184831\n",
       "2  0.229843   0.358251        1.405218         0.446954\n",
       "3 -0.481986   1.865430        1.066083         1.602818\n",
       "4 -0.669722  -0.866332       -0.823144        -0.291694"
      ]
     },
     "execution_count": 181,
     "metadata": {},
     "output_type": "execute_result"
    }
   ],
   "source": [
    "rfm_scaled_df = pd.DataFrame(rfm_scaled, columns=features.columns)\n",
    "rfm_scaled_df.head()"
   ]
  },
  {
   "cell_type": "code",
   "execution_count": 182,
   "id": "a7c3b5be",
   "metadata": {},
   "outputs": [],
   "source": [
    "from sklearn.cluster import KMeans"
   ]
  },
  {
   "cell_type": "markdown",
   "id": "21cf4b18",
   "metadata": {},
   "source": []
  },
  {
   "cell_type": "code",
   "execution_count": 183,
   "id": "7604416d",
   "metadata": {},
   "outputs": [
    {
     "name": "stderr",
     "output_type": "stream",
     "text": [
      "c:\\Users\\alire\\.conda\\envs\\TF2\\Lib\\site-packages\\sklearn\\cluster\\_kmeans.py:1419: UserWarning: KMeans is known to have a memory leak on Windows with MKL, when there are less chunks than available threads. You can avoid it by setting the environment variable OMP_NUM_THREADS=7.\n",
      "  warnings.warn(\n",
      "c:\\Users\\alire\\.conda\\envs\\TF2\\Lib\\site-packages\\sklearn\\cluster\\_kmeans.py:1419: UserWarning: KMeans is known to have a memory leak on Windows with MKL, when there are less chunks than available threads. You can avoid it by setting the environment variable OMP_NUM_THREADS=7.\n",
      "  warnings.warn(\n",
      "c:\\Users\\alire\\.conda\\envs\\TF2\\Lib\\site-packages\\sklearn\\cluster\\_kmeans.py:1419: UserWarning: KMeans is known to have a memory leak on Windows with MKL, when there are less chunks than available threads. You can avoid it by setting the environment variable OMP_NUM_THREADS=7.\n",
      "  warnings.warn(\n",
      "c:\\Users\\alire\\.conda\\envs\\TF2\\Lib\\site-packages\\sklearn\\cluster\\_kmeans.py:1419: UserWarning: KMeans is known to have a memory leak on Windows with MKL, when there are less chunks than available threads. You can avoid it by setting the environment variable OMP_NUM_THREADS=7.\n",
      "  warnings.warn(\n",
      "c:\\Users\\alire\\.conda\\envs\\TF2\\Lib\\site-packages\\sklearn\\cluster\\_kmeans.py:1419: UserWarning: KMeans is known to have a memory leak on Windows with MKL, when there are less chunks than available threads. You can avoid it by setting the environment variable OMP_NUM_THREADS=7.\n",
      "  warnings.warn(\n",
      "c:\\Users\\alire\\.conda\\envs\\TF2\\Lib\\site-packages\\sklearn\\cluster\\_kmeans.py:1419: UserWarning: KMeans is known to have a memory leak on Windows with MKL, when there are less chunks than available threads. You can avoid it by setting the environment variable OMP_NUM_THREADS=7.\n",
      "  warnings.warn(\n",
      "c:\\Users\\alire\\.conda\\envs\\TF2\\Lib\\site-packages\\sklearn\\cluster\\_kmeans.py:1419: UserWarning: KMeans is known to have a memory leak on Windows with MKL, when there are less chunks than available threads. You can avoid it by setting the environment variable OMP_NUM_THREADS=7.\n",
      "  warnings.warn(\n",
      "c:\\Users\\alire\\.conda\\envs\\TF2\\Lib\\site-packages\\sklearn\\cluster\\_kmeans.py:1419: UserWarning: KMeans is known to have a memory leak on Windows with MKL, when there are less chunks than available threads. You can avoid it by setting the environment variable OMP_NUM_THREADS=7.\n",
      "  warnings.warn(\n",
      "c:\\Users\\alire\\.conda\\envs\\TF2\\Lib\\site-packages\\sklearn\\cluster\\_kmeans.py:1419: UserWarning: KMeans is known to have a memory leak on Windows with MKL, when there are less chunks than available threads. You can avoid it by setting the environment variable OMP_NUM_THREADS=7.\n",
      "  warnings.warn(\n",
      "c:\\Users\\alire\\.conda\\envs\\TF2\\Lib\\site-packages\\sklearn\\cluster\\_kmeans.py:1419: UserWarning: KMeans is known to have a memory leak on Windows with MKL, when there are less chunks than available threads. You can avoid it by setting the environment variable OMP_NUM_THREADS=7.\n",
      "  warnings.warn(\n"
     ]
    },
    {
     "data": {
      "image/png": "[encoded data removed]",
      "text/plain": [
       "<Figure size 800x500 with 1 Axes>"
      ]
     },
     "metadata": {},
     "output_type": "display_data"
    }
   ],
   "source": [
    "inertia = []\n",
    "k_range = range(1, 11)\n",
    "\n",
    "for k in k_range:\n",
    "    kmeans = KMeans(n_clusters=k, n_init=10)\n",
    "    kmeans.fit(rfm_scaled)\n",
    "    inertia.append(kmeans.inertia_)\n",
    "\n",
    "\n",
    "plt.figure(figsize=(8, 5))\n",
    "plt.plot(k_range, inertia, marker='o')\n",
    "plt.title('Elbow Method For Optimal k')\n",
    "plt.xlabel('Number of Clusters (k)')\n",
    "plt.ylabel('Inertia')\n",
    "plt.grid(True)\n",
    "plt.show()"
   ]
  },
  {
   "cell_type": "code",
   "execution_count": 184,
   "id": "b4b37e5d",
   "metadata": {},
   "outputs": [
    {
     "name": "stderr",
     "output_type": "stream",
     "text": [
      "c:\\Users\\alire\\.conda\\envs\\TF2\\Lib\\site-packages\\sklearn\\cluster\\_kmeans.py:1419: UserWarning: KMeans is known to have a memory leak on Windows with MKL, when there are less chunks than available threads. You can avoid it by setting the environment variable OMP_NUM_THREADS=7.\n",
      "  warnings.warn(\n"
     ]
    }
   ],
   "source": [
    "k = 4 \n",
    "kmeans = KMeans(n_clusters=k, random_state=42, n_init=10)\n",
    "rfm['Cluster'] = kmeans.fit_predict(rfm_scaled)"
   ]
  },
  {
   "cell_type": "code",
   "execution_count": 185,
   "id": "a890a0da",
   "metadata": {},
   "outputs": [
    {
     "name": "stdout",
     "output_type": "stream",
     "text": [
      "CustomerID          object\n",
      "Recency              int64\n",
      "Frequency            int64\n",
      "Monetary_Sales     float64\n",
      "Monetary_Profit    float64\n",
      "Cluster              int32\n",
      "dtype: object\n"
     ]
    },
    {
     "data": {
      "text/html": [
       "<div>\n",
       "<style scoped>\n",
       "    .dataframe tbody tr th:only-of-type {\n",
       "        vertical-align: middle;\n",
       "    }\n",
       "\n",
       "    .dataframe tbody tr th {\n",
       "        vertical-align: top;\n",
       "    }\n",
       "\n",
       "    .dataframe thead th {\n",
       "        text-align: right;\n",
       "    }\n",
       "</style>\n",
       "<table border=\"1\" class=\"dataframe\">\n",
       "  <thead>\n",
       "    <tr style=\"text-align: right;\">\n",
       "      <th></th>\n",
       "      <th>CustomerID</th>\n",
       "      <th>Recency</th>\n",
       "      <th>Frequency</th>\n",
       "      <th>Monetary_Sales</th>\n",
       "      <th>Monetary_Profit</th>\n",
       "      <th>Cluster</th>\n",
       "    </tr>\n",
       "  </thead>\n",
       "  <tbody>\n",
       "    <tr>\n",
       "      <th>0</th>\n",
       "      <td>AA-10315</td>\n",
       "      <td>9</td>\n",
       "      <td>19</td>\n",
       "      <td>13747.41300</td>\n",
       "      <td>447.69050</td>\n",
       "      <td>2</td>\n",
       "    </tr>\n",
       "    <tr>\n",
       "      <th>1</th>\n",
       "      <td>AA-10375</td>\n",
       "      <td>7</td>\n",
       "      <td>23</td>\n",
       "      <td>5884.19500</td>\n",
       "      <td>677.47740</td>\n",
       "      <td>2</td>\n",
       "    </tr>\n",
       "    <tr>\n",
       "      <th>2</th>\n",
       "      <td>AA-10480</td>\n",
       "      <td>118</td>\n",
       "      <td>20</td>\n",
       "      <td>17695.58978</td>\n",
       "      <td>1516.47518</td>\n",
       "      <td>2</td>\n",
       "    </tr>\n",
       "    <tr>\n",
       "      <th>3</th>\n",
       "      <td>AA-10645</td>\n",
       "      <td>27</td>\n",
       "      <td>36</td>\n",
       "      <td>15343.89070</td>\n",
       "      <td>3051.43900</td>\n",
       "      <td>1</td>\n",
       "    </tr>\n",
       "    <tr>\n",
       "      <th>4</th>\n",
       "      <td>AA-315</td>\n",
       "      <td>3</td>\n",
       "      <td>7</td>\n",
       "      <td>2243.25600</td>\n",
       "      <td>535.56600</td>\n",
       "      <td>0</td>\n",
       "    </tr>\n",
       "  </tbody>\n",
       "</table>\n",
       "</div>"
      ],
      "text/plain": [
       "  CustomerID  Recency  Frequency  Monetary_Sales  Monetary_Profit  Cluster\n",
       "0   AA-10315        9         19     13747.41300        447.69050        2\n",
       "1   AA-10375        7         23      5884.19500        677.47740        2\n",
       "2   AA-10480      118         20     17695.58978       1516.47518        2\n",
       "3   AA-10645       27         36     15343.89070       3051.43900        1\n",
       "4     AA-315        3          7      2243.25600        535.56600        0"
      ]
     },
     "execution_count": 185,
     "metadata": {},
     "output_type": "execute_result"
    }
   ],
   "source": [
    "print(rfm.dtypes)\n",
    "rfm.head()"
   ]
  },
  {
   "cell_type": "code",
   "execution_count": 186,
   "id": "38235913",
   "metadata": {},
   "outputs": [
    {
     "name": "stdout",
     "output_type": "stream",
     "text": [
      "         Recency  Frequency  Monetary_Sales  Monetary_Profit\n",
      "Cluster                                                     \n",
      "0          85.00       7.00         2290.69           174.76\n",
      "1          30.25      28.87        18883.96          3214.82\n",
      "2          32.59      25.18        12002.06          1099.61\n",
      "3         433.53       4.41         1574.51           146.99\n"
     ]
    }
   ],
   "source": [
    "cluster_profile = rfm.groupby('Cluster')[\n",
    "    ['Recency', 'Frequency', 'Monetary_Sales', 'Monetary_Profit']\n",
    "].mean().round(2)\n",
    "\n",
    "print(cluster_profile)"
   ]
  },
  {
   "cell_type": "code",
   "execution_count": 187,
   "id": "3fe39819",
   "metadata": {},
   "outputs": [
    {
     "data": {
      "image/png": "[encoded data removed]",
      "text/plain": [
       "<Figure size 800x600 with 2 Axes>"
      ]
     },
     "metadata": {},
     "output_type": "display_data"
    }
   ],
   "source": [
    "from sklearn.decomposition import PCA\n",
    "\n",
    "pca = PCA(n_components=2)\n",
    "components = pca.fit_transform(rfm_scaled)\n",
    "\n",
    "plt.figure(figsize=(8, 6))\n",
    "plt.scatter(components[:, 0], components[:, 1], c=rfm['Cluster'], cmap='viridis', s=0.3)\n",
    "plt.xlabel('PCA 1')\n",
    "plt.ylabel('PCA 2')\n",
    "plt.title('Customer Segments (PCA Visualization)')\n",
    "plt.colorbar(label='Cluster')\n",
    "plt.show()"
   ]
  },
  {
   "cell_type": "code",
   "execution_count": null,
   "id": "5e931fc5",
   "metadata": {},
   "outputs": [],
   "source": []
  }
 ],
 "metadata": {
  "kernelspec": {
   "display_name": "TF2",
   "language": "python",
   "name": "python3"
  },
  "language_info": {
   "codemirror_mode": {
    "name": "ipython",
    "version": 3
   },
   "file_extension": ".py",
   "mimetype": "text/x-python",
   "name": "python",
   "nbconvert_exporter": "python",
   "pygments_lexer": "ipython3",
   "version": "3.11.13"
  }
 },
 "nbformat": 4,
 "nbformat_minor": 5
}
